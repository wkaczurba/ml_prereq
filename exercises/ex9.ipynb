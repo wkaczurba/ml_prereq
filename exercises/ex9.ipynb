{
 "metadata": {
  "language_info": {
   "codemirror_mode": {
    "name": "ipython",
    "version": 3
   },
   "file_extension": ".py",
   "mimetype": "text/x-python",
   "name": "python",
   "nbconvert_exporter": "python",
   "pygments_lexer": "ipython3",
   "version": "3.8.3-final"
  },
  "orig_nbformat": 2,
  "kernelspec": {
   "name": "Python 3.8.3 64-bit ('base': conda)",
   "display_name": "Python 3.8.3 64-bit ('base': conda)",
   "metadata": {
    "interpreter": {
     "hash": "ceafd1e7221df52ada1f7bcf7e5b4333c93f3ac61d3d258d9cf8258a83802ece"
    }
   }
  }
 },
 "nbformat": 4,
 "nbformat_minor": 2,
 "cells": [
  {
   "cell_type": "code",
   "execution_count": 9,
   "metadata": {},
   "outputs": [],
   "source": [
    "import numpy as np\n",
    "import matplotlib.pyplot as plt\n",
    "import pandas as pd\n",
    "\n",
    "N=1000\n",
    "\n",
    "def generate_data(shift=0):\n",
    "    t = np.random.rand(N)\n",
    "    noise1 = np.random.randn(N)/100\n",
    "    noise2 = np.random.randn(N)/100\n",
    "\n",
    "    distance = t % 0.33\n",
    "    #x = np.random.rand(N) * 2 * np.pi\n",
    "    angle = t * 2 * np.pi + shift\n",
    "    x = np.cos(angle) * distance + noise1\n",
    "    y = np.sin(angle) * distance + noise2\n",
    "    return x, y, distance\n",
    "\n",
    "x1, y1, distance1 = generate_data()\n",
    "c1 = ['r',]*x1.size\n",
    "x2, y2, distance2 = generate_data(1)\n",
    "c2 = ['b',]*x2.size\n",
    "\n",
    "x = np.append(x1, x2)\n",
    "y = np.append(y1, y2)\n",
    "color = np.append(c1, c2)\n",
    "\n",
    "# f = plt.figure(figsize=(10, 10))\n",
    "# ax1 = f.add_subplot(111, aspect='equal')\n",
    "# ax1.scatter(x,y,c = color)\n",
    "\n",
    "data = np.array([x, y, color])\n",
    "\n",
    "\n"
   ]
  },
  {
   "cell_type": "code",
   "execution_count": 15,
   "metadata": {},
   "outputs": [],
   "source": [
    "df = pd.DataFrame(data.T, columns=['x1', 'x2', 'color'])\n",
    "df.to_csv('spiral.csv', index=False)"
   ]
  }
 ]
}