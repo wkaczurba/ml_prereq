{
 "metadata": {
  "language_info": {
   "codemirror_mode": {
    "name": "ipython",
    "version": 3
   },
   "file_extension": ".py",
   "mimetype": "text/x-python",
   "name": "python",
   "nbconvert_exporter": "python",
   "pygments_lexer": "ipython3",
   "version": "3.8.3-final"
  },
  "orig_nbformat": 2,
  "kernelspec": {
   "name": "Python 3.8.3 64-bit ('base': conda)",
   "display_name": "Python 3.8.3 64-bit ('base': conda)",
   "metadata": {
    "interpreter": {
     "hash": "ceafd1e7221df52ada1f7bcf7e5b4333c93f3ac61d3d258d9cf8258a83802ece"
    }
   }
  }
 },
 "nbformat": 4,
 "nbformat_minor": 2,
 "cells": [
  {
   "cell_type": "code",
   "execution_count": 31,
   "metadata": {},
   "outputs": [
    {
     "output_type": "execute_result",
     "data": {
      "text/plain": [
       "array([[6, 6, 3, 3, 5, 4, 6, 7, 8, 6],\n",
       "       [6, 9, 7, 6, 6, 0, 9, 9, 0, 6],\n",
       "       [3, 7, 8, 8, 8, 7, 0, 0, 7, 9],\n",
       "       [3, 6, 8, 5, 6, 3, 4, 5, 2, 1],\n",
       "       [5, 6, 8, 6, 9, 9, 7, 8, 3, 1],\n",
       "       [4, 0, 7, 3, 9, 6, 9, 3, 0, 6],\n",
       "       [6, 9, 0, 4, 7, 9, 4, 5, 5, 0],\n",
       "       [7, 9, 0, 5, 8, 3, 5, 8, 9, 7],\n",
       "       [8, 0, 7, 2, 3, 0, 5, 9, 4, 9],\n",
       "       [6, 6, 9, 1, 1, 6, 0, 7, 9, 1]])"
      ]
     },
     "metadata": {},
     "execution_count": 31
    }
   ],
   "source": [
    "# CHeck if a matrix is symmetric\n",
    "# Try it both methods: by the definition + by use of numpy functions\n",
    "\n",
    "import numpy as np\n",
    "import random\n",
    "\n",
    "def generate(symmetric):\n",
    "    mat = np.random.random_integers(0, 9, [10, 10])\n",
    "    \n",
    "    #\n",
    "        #np[i,j]\n",
    "    if (symmetric):\n",
    "        for i in range(0, 10):\n",
    "            for j in range(i, 10):\n",
    "                mat[i][j] = mat[j][i]\n",
    "    return mat\n",
    "\n",
    "\n",
    "A = generate(True)\n",
    "A"
   ]
  },
  {
   "cell_type": "code",
   "execution_count": 39,
   "metadata": {},
   "outputs": [
    {
     "output_type": "stream",
     "name": "stdout",
     "text": [
      "True\nTrue\nTrue\nTrue\nTrue\nTrue\nTrue\nTrue\nTrue\nTrue\n"
     ]
    }
   ],
   "source": [
    "A.T == A\n",
    "for i in range(0, 10):\n",
    "    A = generate(True)\n",
    "    print(np.array_equal(A.T, A))"
   ]
  },
  {
   "cell_type": "code",
   "execution_count": 130,
   "metadata": {},
   "outputs": [
    {
     "output_type": "stream",
     "name": "stdout",
     "text": [
      "non-symmetric\nnon-symmetric\nnon-symmetric\nnon-symmetric\nsymmetric\nnon-symmetric\nsymmetric\nnon-symmetric\nnon-symmetric\nsymmetric\n"
     ]
    }
   ],
   "source": [
    "\n",
    "def is_symmetric(matrix):\n",
    "    matrix = A\n",
    "    if (len(matrix.shape) != 2 or matrix.shape[1] != matrix.shape[0]):\n",
    "        return False\n",
    "    for i in range(0, matrix.shape[0]):\n",
    "        for j in range(i, matrix.shape[0]):\n",
    "            if i == j:\n",
    "                continue\n",
    "            if matrix[i][j] != matrix[j][i]:\n",
    "                return False\n",
    "    return True\n",
    "\n",
    "\n",
    "A.T == A\n",
    "for i in range(0, 10):\n",
    "    symmetric = random.random() > 0.5;\n",
    "    A = generate(symmetric)\n",
    "    if (symmetric):\n",
    "        print(\"symmetric\")\n",
    "    else:\n",
    "        print(\"non-symmetric\")\n",
    "    assert(np.array_equal(A.T, A) == is_symmetric(A))\n"
   ]
  },
  {
   "cell_type": "code",
   "execution_count": 123,
   "metadata": {},
   "outputs": [
    {
     "output_type": "execute_result",
     "data": {
      "text/plain": [
       "True"
      ]
     },
     "metadata": {},
     "execution_count": 123
    }
   ],
   "source": [
    "\n"
   ]
  }
 ]
}