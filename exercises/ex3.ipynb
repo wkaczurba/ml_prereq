{
 "metadata": {
  "language_info": {
   "codemirror_mode": {
    "name": "ipython",
    "version": 3
   },
   "file_extension": ".py",
   "mimetype": "text/x-python",
   "name": "python",
   "nbconvert_exporter": "python",
   "pygments_lexer": "ipython3",
   "version": "3.8.3-final"
  },
  "orig_nbformat": 2,
  "kernelspec": {
   "name": "Python 3.8.3 64-bit ('base': conda)",
   "display_name": "Python 3.8.3 64-bit ('base': conda)",
   "metadata": {
    "interpreter": {
     "hash": "ceafd1e7221df52ada1f7bcf7e5b4333c93f3ac61d3d258d9cf8258a83802ece"
    }
   }
  }
 },
 "nbformat": 4,
 "nbformat_minor": 2,
 "cells": [
  {
   "cell_type": "code",
   "execution_count": 3,
   "metadata": {},
   "outputs": [],
   "source": [
    "# LOad the MNIST dataset -> where to get it from???\n",
    "# then plot the mean(average) image for each digit class (0 ... 9)\n",
    "\n",
    "# mean = sum / number of elements\n",
    "\n",
    "# TODO: Find MNIST dataset - where to get it from???\n",
    "\n",
    "# Dataset - http://rasbt.github.io/mlxtend/user_guide/data/loadlocal_mnist/\n",
    "# https://gist.github.com/aldro61/40233cb59a3acf725dde6abb617141d4 ?\n",
    "# https://github.com/hsjeong5/MNIST-for-Numpy\n",
    "\n",
    "import mnist\n"
   ]
  },
  {
   "cell_type": "code",
   "execution_count": 7,
   "metadata": {},
   "outputs": [
    {
     "output_type": "stream",
     "name": "stdout",
     "text": [
      "Downloading train-images-idx3-ubyte.gz...\n",
      "Downloading t10k-images-idx3-ubyte.gz...\n",
      "Downloading train-labels-idx1-ubyte.gz...\n",
      "Downloading t10k-labels-idx1-ubyte.gz...\n",
      "Download complete.\n",
      "Save complete.\n"
     ]
    }
   ],
   "source": [
    "mnist.init()"
   ]
  },
  {
   "cell_type": "code",
   "execution_count": 49,
   "metadata": {},
   "outputs": [],
   "source": [
    "from PIL import Image\n",
    "\n",
    "\n",
    "x_train, t_train, x_test, t_test = mnist.load()\n",
    "\n",
    "img = Image.fromarray(x_train[1,:].reshape(28,28)) # First image in the training set.\n",
    "img = img.resize((200,200))\n",
    "img.show() # Show the image"
   ]
  },
  {
   "cell_type": "code",
   "execution_count": 113,
   "metadata": {},
   "outputs": [],
   "source": [
    "mean_digits = []\n",
    "for digit in range(0, 10):\n",
    "    indexes = np.where( t_train == digit )[0][0:10]\n",
    "    images = np.zeros((28,28))\n",
    "    for index in indexes:\n",
    "        img_array = x_train[index,:].reshape(28,28) # First image in the training set.\n",
    "        images += img_array\n",
    "        #mean = np.mean(images)\n",
    "    images /= len(indexes)\n",
    "    mean_digits.append(images)\n",
    " \n",
    " "
   ]
  },
  {
   "cell_type": "code",
   "execution_count": 119,
   "metadata": {},
   "outputs": [],
   "source": [
    "for mean_digit in mean_digits:\n",
    "    img = Image.fromarray(mean_digit)\n",
    "    img = img.resize( (200, 200) )\n",
    "    img.show()"
   ]
  },
  {
   "cell_type": "code",
   "execution_count": 110,
   "metadata": {},
   "outputs": [
    {
     "output_type": "execute_result",
     "data": {
      "text/plain": [
       "6.0"
      ]
     },
     "metadata": {},
     "execution_count": 110
    }
   ],
   "source": []
  }
 ]
}