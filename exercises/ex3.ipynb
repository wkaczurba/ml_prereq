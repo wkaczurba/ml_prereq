{
 "metadata": {
  "language_info": {
   "codemirror_mode": {
    "name": "ipython",
    "version": 3
   },
   "file_extension": ".py",
   "mimetype": "text/x-python",
   "name": "python",
   "nbconvert_exporter": "python",
   "pygments_lexer": "ipython3",
   "version": 3
  },
  "orig_nbformat": 2
 },
 "nbformat": 4,
 "nbformat_minor": 2,
 "cells": [
  {
   "cell_type": "code",
   "execution_count": null,
   "metadata": {},
   "outputs": [],
   "source": [
    "# LOad the MNIST dataset -> where to get it from???\n",
    "# then plot the mean(average) image for each digit class (0 ... 9)\n",
    "\n",
    "# mean = sum / number of elements\n",
    "\n",
    "# TODO: Find MNIST dataset - where to get it from???\n",
    "\n",
    "# Dataset - http://rasbt.github.io/mlxtend/user_guide/data/loadlocal_mnist/\n"
   ]
  }
 ]
}