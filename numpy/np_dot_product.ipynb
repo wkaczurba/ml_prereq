{
 "metadata": {
  "language_info": {
   "codemirror_mode": {
    "name": "ipython",
    "version": 3
   },
   "file_extension": ".py",
   "mimetype": "text/x-python",
   "name": "python",
   "nbconvert_exporter": "python",
   "pygments_lexer": "ipython3",
   "version": "3.8.3-final"
  },
  "orig_nbformat": 2,
  "kernelspec": {
   "name": "Python 3.8.3 64-bit ('base': conda)",
   "display_name": "Python 3.8.3 64-bit ('base': conda)",
   "metadata": {
    "interpreter": {
     "hash": "ceafd1e7221df52ada1f7bcf7e5b4333c93f3ac61d3d258d9cf8258a83802ece"
    }
   }
  }
 },
 "nbformat": 4,
 "nbformat_minor": 2,
 "cells": [
  {
   "cell_type": "code",
   "execution_count": 8,
   "metadata": {},
   "outputs": [],
   "source": [
    "# TODO: Come back to : a @ b and figure out what does it do.\n",
    "\n",
    "import numpy as np\n",
    "\n",
    "# 3x3 matrix:\n",
    "A = np.array([[2, 3, 4], [5, 6, 7], [8, 9, 10]])"
   ]
  },
  {
   "cell_type": "code",
   "execution_count": 12,
   "metadata": {},
   "outputs": [
    {
     "output_type": "execute_result",
     "data": {
      "text/plain": [
       "array([3, 8])"
      ]
     },
     "metadata": {},
     "execution_count": 12
    }
   ],
   "source": [
    "a = np.array([1, 2])\n",
    "b = np.array([3, 4])\n",
    "a * b"
   ]
  },
  {
   "cell_type": "code",
   "execution_count": 92,
   "metadata": {},
   "outputs": [
    {
     "output_type": "execute_result",
     "data": {
      "text/plain": [
       "array([[1, 0, 0],\n",
       "       [0, 5, 0],\n",
       "       [0, 0, 9]])"
      ]
     },
     "metadata": {},
     "execution_count": 92
    }
   ],
   "source": [
    "a = np.array([[1, 2, 3],\n",
    "[4, 5, 6], [7, 8, 9]])\n",
    "b = np.array([[1, 0, 0], [0, 1, 0], [0, 0, 1]])\n",
    "\n",
    "a * b"
   ]
  },
  {
   "cell_type": "code",
   "execution_count": 36,
   "metadata": {},
   "outputs": [
    {
     "output_type": "stream",
     "name": "stdout",
     "text": [
      "iteration i= 9 ;e: 1, f: 3\niteration i= 9 ;e: 2, f: 4\n"
     ]
    }
   ],
   "source": [
    "a = np.array([1, 2])\n",
    "b = np.array([3, 4])\n",
    "\n",
    "dot = 0\n",
    "for e, f in zip(a, b):\n",
    "    dot += e*f\n",
    "dot\n",
    "\n",
    "\n",
    "i = 0\n",
    "for e, f in zip(a, b):\n",
    "    print(\"iteration i= %d ;e: %d, f: %d\" % (i, e, f))\n",
    "    i+=1\n",
    "\n"
   ]
  },
  {
   "cell_type": "code",
   "execution_count": 46,
   "metadata": {},
   "outputs": [
    {
     "output_type": "stream",
     "name": "stdout",
     "text": [
      "iteration i= 0 ;e: 1, f: 1\niteration i= 1 ;e: 0, f: 2\niteration i= 2 ;e: 0, f: 3\niteration i= 3 ;e: 0, f: 4\niteration i= 4 ;e: 1, f: 5\niteration i= 5 ;e: 0, f: 6\niteration i= 6 ;e: 0, f: 7\niteration i= 7 ;e: 0, f: 8\niteration i= 8 ;e: 1, f: 9\n"
     ]
    }
   ],
   "source": [
    "A = np.array([[1, 0, 0], [0, 1, 0], [0, 0, 1]])\n",
    "B = np.array([[1, 2, 3], [4, 5, 6], [7, 8, 9]])\n",
    "\n",
    "i = 0\n",
    "# for e, f in zip(A, B):\n",
    "#     i += 1\n",
    "#     print(\"iteration i= %d ;e: %s, f: %s\" % (i, e, f))\n",
    "\n",
    "for e, f in zip(A, B):\n",
    "    for e1, f1 in zip(e, f):\n",
    "        print(\"iteration i= %d ;e: %s, f: %s\" % (i, e1, f1))\n",
    "        i += 1        \n",
    "\n",
    "\n"
   ]
  },
  {
   "cell_type": "code",
   "execution_count": 47,
   "metadata": {},
   "outputs": [
    {
     "output_type": "execute_result",
     "data": {
      "text/plain": [
       "11"
      ]
     },
     "metadata": {},
     "execution_count": 47
    }
   ],
   "source": [
    "dot = 0\n",
    "for i in (range(len(a))):\n",
    "  dot += a[i] * b[i]\n",
    "dot\n"
   ]
  },
  {
   "cell_type": "code",
   "execution_count": 55,
   "metadata": {},
   "outputs": [
    {
     "output_type": "execute_result",
     "data": {
      "text/plain": [
       "True"
      ]
     },
     "metadata": {},
     "execution_count": 55
    }
   ],
   "source": [
    "a * b # [a[0] * b[0], a[1] * b[1]]\n",
    "expected_array = np.array([3, 8])\n",
    "a * b == (expected_array)\n",
    "np.array_equal(a * b, expected_array)\n"
   ]
  },
  {
   "cell_type": "code",
   "execution_count": 58,
   "metadata": {},
   "outputs": [
    {
     "output_type": "execute_result",
     "data": {
      "text/plain": [
       "11"
      ]
     },
     "metadata": {},
     "execution_count": 58
    }
   ],
   "source": [
    "np.sum( a * b ) # 3 + 8 == 11 -> ok"
   ]
  },
  {
   "cell_type": "code",
   "execution_count": 59,
   "metadata": {},
   "outputs": [
    {
     "output_type": "execute_result",
     "data": {
      "text/plain": [
       "11"
      ]
     },
     "metadata": {},
     "execution_count": 59
    }
   ],
   "source": [
    "(a * b).sum() # the same as np.sum(a, b)"
   ]
  },
  {
   "cell_type": "code",
   "execution_count": 62,
   "metadata": {},
   "outputs": [
    {
     "output_type": "execute_result",
     "data": {
      "text/plain": [
       "5"
      ]
     },
     "metadata": {},
     "execution_count": 62
    }
   ],
   "source": [
    "a.dot(a) # [1, 2] = [1 * 1 + 2 * 2] => 5"
   ]
  },
  {
   "cell_type": "code",
   "execution_count": 64,
   "metadata": {},
   "outputs": [
    {
     "output_type": "execute_result",
     "data": {
      "text/plain": [
       "25"
      ]
     },
     "metadata": {},
     "execution_count": 64
    }
   ],
   "source": [
    "b.dot(b) # [3, 4] =  9 + 16 = 25"
   ]
  },
  {
   "cell_type": "code",
   "execution_count": 66,
   "metadata": {},
   "outputs": [
    {
     "output_type": "execute_result",
     "data": {
      "text/plain": [
       "11"
      ]
     },
     "metadata": {},
     "execution_count": 66
    }
   ],
   "source": [
    "a.dot(b) # 1 * 3 + 2 * 4 => 3 + 8 == 1"
   ]
  },
  {
   "cell_type": "code",
   "execution_count": 68,
   "metadata": {},
   "outputs": [
    {
     "output_type": "execute_result",
     "data": {
      "text/plain": [
       "11"
      ]
     },
     "metadata": {},
     "execution_count": 68
    }
   ],
   "source": [
    "b.dot(a) # 3 * 1 + 4 * 2 => 11"
   ]
  },
  {
   "cell_type": "code",
   "execution_count": 70,
   "metadata": {},
   "outputs": [
    {
     "output_type": "execute_result",
     "data": {
      "text/plain": [
       "11"
      ]
     },
     "metadata": {},
     "execution_count": 70
    }
   ],
   "source": [
    "# Not sure what this one does:\n",
    "a @ b"
   ]
  },
  {
   "cell_type": "code",
   "execution_count": 81,
   "metadata": {},
   "outputs": [
    {
     "output_type": "execute_result",
     "data": {
      "text/plain": [
       "5.000000000000001"
      ]
     },
     "metadata": {},
     "execution_count": 81
    }
   ],
   "source": [
    "#amag = np.sqrt((a* a).sum())0\n",
    "#amag\n",
    " # a*a => [1,2]*[1,2] => [1, 4]\n",
    " # np.sum(a*a) => 5\n",
    "amag = np.sqrt( ( a * a).sum())\n",
    "amag # same as sqrt(5)\n",
    "\n"
   ]
  },
  {
   "cell_type": "code",
   "execution_count": 85,
   "metadata": {},
   "outputs": [
    {
     "output_type": "execute_result",
     "data": {
      "text/plain": [
       "2.23606797749979"
      ]
     },
     "metadata": {},
     "execution_count": 85
    }
   ],
   "source": [
    "amag = np.linalg.norm(amag)\n",
    "amag"
   ]
  },
  {
   "cell_type": "code",
   "execution_count": 89,
   "metadata": {},
   "outputs": [
    {
     "output_type": "execute_result",
     "data": {
      "text/plain": [
       "0.9838699100999074"
      ]
     },
     "metadata": {},
     "execution_count": 89
    }
   ],
   "source": [
    "cosangle = a.dot(b) / ( np.linalg.norm(a) * np.linalg.norm(b) )\n",
    "cosangle"
   ]
  },
  {
   "cell_type": "code",
   "execution_count": 91,
   "metadata": {},
   "outputs": [
    {
     "output_type": "execute_result",
     "data": {
      "text/plain": [
       "0.17985349979247847"
      ]
     },
     "metadata": {},
     "execution_count": 91
    }
   ],
   "source": [
    "angle = np.arccos(cosangle)\n",
    "angle\n"
   ]
  }
 ]
}