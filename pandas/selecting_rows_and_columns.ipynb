{
 "metadata": {
  "language_info": {
   "codemirror_mode": {
    "name": "ipython",
    "version": 3
   },
   "file_extension": ".py",
   "mimetype": "text/x-python",
   "name": "python",
   "nbconvert_exporter": "python",
   "pygments_lexer": "ipython3",
   "version": "3.8.3-final"
  },
  "orig_nbformat": 2,
  "kernelspec": {
   "name": "Python 3.8.3 64-bit ('base': conda)",
   "display_name": "Python 3.8.3 64-bit ('base': conda)",
   "metadata": {
    "interpreter": {
     "hash": "ceafd1e7221df52ada1f7bcf7e5b4333c93f3ac61d3d258d9cf8258a83802ece"
    }
   }
  }
 },
 "nbformat": 4,
 "nbformat_minor": 2,
 "cells": [
  {
   "cell_type": "code",
   "execution_count": 3,
   "metadata": {},
   "outputs": [
    {
     "output_type": "execute_result",
     "data": {
      "text/plain": [
       "            date    open    high     low   close    volume  Name\n",
       "0     2013-02-08  27.920  28.325  27.920  28.185   7146296  SBUX\n",
       "1     2013-02-11  28.260  28.260  27.930  28.070   5457354  SBUX\n",
       "2     2013-02-12  28.000  28.275  27.975  28.130   8665592  SBUX\n",
       "3     2013-02-13  28.230  28.230  27.750  27.915   7022056  SBUX\n",
       "4     2013-02-14  27.765  27.905  27.675  27.775   8899188  SBUX\n",
       "...          ...     ...     ...     ...     ...       ...   ...\n",
       "1254  2018-02-01  56.280  56.420  55.890  56.000  14690146  SBUX\n",
       "1255  2018-02-02  55.900  56.320  55.700  55.770  15358909  SBUX\n",
       "1256  2018-02-05  55.530  56.260  54.570  54.690  16059955  SBUX\n",
       "1257  2018-02-06  53.685  56.060  53.560  55.610  17415065  SBUX\n",
       "1258  2018-02-07  55.080  55.430  54.440  54.460  13927022  SBUX\n",
       "\n",
       "[1259 rows x 7 columns]"
      ],
      "text/html": "<div>\n<style scoped>\n    .dataframe tbody tr th:only-of-type {\n        vertical-align: middle;\n    }\n\n    .dataframe tbody tr th {\n        vertical-align: top;\n    }\n\n    .dataframe thead th {\n        text-align: right;\n    }\n</style>\n<table border=\"1\" class=\"dataframe\">\n  <thead>\n    <tr style=\"text-align: right;\">\n      <th></th>\n      <th>date</th>\n      <th>open</th>\n      <th>high</th>\n      <th>low</th>\n      <th>close</th>\n      <th>volume</th>\n      <th>Name</th>\n    </tr>\n  </thead>\n  <tbody>\n    <tr>\n      <th>0</th>\n      <td>2013-02-08</td>\n      <td>27.920</td>\n      <td>28.325</td>\n      <td>27.920</td>\n      <td>28.185</td>\n      <td>7146296</td>\n      <td>SBUX</td>\n    </tr>\n    <tr>\n      <th>1</th>\n      <td>2013-02-11</td>\n      <td>28.260</td>\n      <td>28.260</td>\n      <td>27.930</td>\n      <td>28.070</td>\n      <td>5457354</td>\n      <td>SBUX</td>\n    </tr>\n    <tr>\n      <th>2</th>\n      <td>2013-02-12</td>\n      <td>28.000</td>\n      <td>28.275</td>\n      <td>27.975</td>\n      <td>28.130</td>\n      <td>8665592</td>\n      <td>SBUX</td>\n    </tr>\n    <tr>\n      <th>3</th>\n      <td>2013-02-13</td>\n      <td>28.230</td>\n      <td>28.230</td>\n      <td>27.750</td>\n      <td>27.915</td>\n      <td>7022056</td>\n      <td>SBUX</td>\n    </tr>\n    <tr>\n      <th>4</th>\n      <td>2013-02-14</td>\n      <td>27.765</td>\n      <td>27.905</td>\n      <td>27.675</td>\n      <td>27.775</td>\n      <td>8899188</td>\n      <td>SBUX</td>\n    </tr>\n    <tr>\n      <th>...</th>\n      <td>...</td>\n      <td>...</td>\n      <td>...</td>\n      <td>...</td>\n      <td>...</td>\n      <td>...</td>\n      <td>...</td>\n    </tr>\n    <tr>\n      <th>1254</th>\n      <td>2018-02-01</td>\n      <td>56.280</td>\n      <td>56.420</td>\n      <td>55.890</td>\n      <td>56.000</td>\n      <td>14690146</td>\n      <td>SBUX</td>\n    </tr>\n    <tr>\n      <th>1255</th>\n      <td>2018-02-02</td>\n      <td>55.900</td>\n      <td>56.320</td>\n      <td>55.700</td>\n      <td>55.770</td>\n      <td>15358909</td>\n      <td>SBUX</td>\n    </tr>\n    <tr>\n      <th>1256</th>\n      <td>2018-02-05</td>\n      <td>55.530</td>\n      <td>56.260</td>\n      <td>54.570</td>\n      <td>54.690</td>\n      <td>16059955</td>\n      <td>SBUX</td>\n    </tr>\n    <tr>\n      <th>1257</th>\n      <td>2018-02-06</td>\n      <td>53.685</td>\n      <td>56.060</td>\n      <td>53.560</td>\n      <td>55.610</td>\n      <td>17415065</td>\n      <td>SBUX</td>\n    </tr>\n    <tr>\n      <th>1258</th>\n      <td>2018-02-07</td>\n      <td>55.080</td>\n      <td>55.430</td>\n      <td>54.440</td>\n      <td>54.460</td>\n      <td>13927022</td>\n      <td>SBUX</td>\n    </tr>\n  </tbody>\n</table>\n<p>1259 rows × 7 columns</p>\n</div>"
     },
     "metadata": {},
     "execution_count": 3
    }
   ],
   "source": [
    "import pandas as pd\n",
    "\n",
    "df = pd.read_csv('sbux.csv')\n",
    "df"
   ]
  },
  {
   "cell_type": "code",
   "execution_count": 7,
   "metadata": {},
   "outputs": [
    {
     "output_type": "execute_result",
     "data": {
      "text/plain": [
       "            date    open    high     low   close    volume  Name\n",
       "0     2013-02-08  27.920  28.325  27.920  28.185   7146296  SBUX\n",
       "1     2013-02-11  28.260  28.260  27.930  28.070   5457354  SBUX\n",
       "2     2013-02-12  28.000  28.275  27.975  28.130   8665592  SBUX\n",
       "3     2013-02-13  28.230  28.230  27.750  27.915   7022056  SBUX\n",
       "4     2013-02-14  27.765  27.905  27.675  27.775   8899188  SBUX\n",
       "...          ...     ...     ...     ...     ...       ...   ...\n",
       "1254  2018-02-01  56.280  56.420  55.890  56.000  14690146  SBUX\n",
       "1255  2018-02-02  55.900  56.320  55.700  55.770  15358909  SBUX\n",
       "1256  2018-02-05  55.530  56.260  54.570  54.690  16059955  SBUX\n",
       "1257  2018-02-06  53.685  56.060  53.560  55.610  17415065  SBUX\n",
       "1258  2018-02-07  55.080  55.430  54.440  54.460  13927022  SBUX\n",
       "\n",
       "[1259 rows x 7 columns]"
      ],
      "text/html": "<div>\n<style scoped>\n    .dataframe tbody tr th:only-of-type {\n        vertical-align: middle;\n    }\n\n    .dataframe tbody tr th {\n        vertical-align: top;\n    }\n\n    .dataframe thead th {\n        text-align: right;\n    }\n</style>\n<table border=\"1\" class=\"dataframe\">\n  <thead>\n    <tr style=\"text-align: right;\">\n      <th></th>\n      <th>date</th>\n      <th>open</th>\n      <th>high</th>\n      <th>low</th>\n      <th>close</th>\n      <th>volume</th>\n      <th>Name</th>\n    </tr>\n  </thead>\n  <tbody>\n    <tr>\n      <th>0</th>\n      <td>2013-02-08</td>\n      <td>27.920</td>\n      <td>28.325</td>\n      <td>27.920</td>\n      <td>28.185</td>\n      <td>7146296</td>\n      <td>SBUX</td>\n    </tr>\n    <tr>\n      <th>1</th>\n      <td>2013-02-11</td>\n      <td>28.260</td>\n      <td>28.260</td>\n      <td>27.930</td>\n      <td>28.070</td>\n      <td>5457354</td>\n      <td>SBUX</td>\n    </tr>\n    <tr>\n      <th>2</th>\n      <td>2013-02-12</td>\n      <td>28.000</td>\n      <td>28.275</td>\n      <td>27.975</td>\n      <td>28.130</td>\n      <td>8665592</td>\n      <td>SBUX</td>\n    </tr>\n    <tr>\n      <th>3</th>\n      <td>2013-02-13</td>\n      <td>28.230</td>\n      <td>28.230</td>\n      <td>27.750</td>\n      <td>27.915</td>\n      <td>7022056</td>\n      <td>SBUX</td>\n    </tr>\n    <tr>\n      <th>4</th>\n      <td>2013-02-14</td>\n      <td>27.765</td>\n      <td>27.905</td>\n      <td>27.675</td>\n      <td>27.775</td>\n      <td>8899188</td>\n      <td>SBUX</td>\n    </tr>\n    <tr>\n      <th>...</th>\n      <td>...</td>\n      <td>...</td>\n      <td>...</td>\n      <td>...</td>\n      <td>...</td>\n      <td>...</td>\n      <td>...</td>\n    </tr>\n    <tr>\n      <th>1254</th>\n      <td>2018-02-01</td>\n      <td>56.280</td>\n      <td>56.420</td>\n      <td>55.890</td>\n      <td>56.000</td>\n      <td>14690146</td>\n      <td>SBUX</td>\n    </tr>\n    <tr>\n      <th>1255</th>\n      <td>2018-02-02</td>\n      <td>55.900</td>\n      <td>56.320</td>\n      <td>55.700</td>\n      <td>55.770</td>\n      <td>15358909</td>\n      <td>SBUX</td>\n    </tr>\n    <tr>\n      <th>1256</th>\n      <td>2018-02-05</td>\n      <td>55.530</td>\n      <td>56.260</td>\n      <td>54.570</td>\n      <td>54.690</td>\n      <td>16059955</td>\n      <td>SBUX</td>\n    </tr>\n    <tr>\n      <th>1257</th>\n      <td>2018-02-06</td>\n      <td>53.685</td>\n      <td>56.060</td>\n      <td>53.560</td>\n      <td>55.610</td>\n      <td>17415065</td>\n      <td>SBUX</td>\n    </tr>\n    <tr>\n      <th>1258</th>\n      <td>2018-02-07</td>\n      <td>55.080</td>\n      <td>55.430</td>\n      <td>54.440</td>\n      <td>54.460</td>\n      <td>13927022</td>\n      <td>SBUX</td>\n    </tr>\n  </tbody>\n</table>\n<p>1259 rows × 7 columns</p>\n</div>"
     },
     "metadata": {},
     "execution_count": 7
    }
   ],
   "source": [
    "# Or reading directly from the web:\n",
    "df = pd.read_csv('https://raw.githubusercontent.com/lazyprogrammer/machine_learning_examples/master/tf2.0/sbux.csv') # this will take a bit longer.\n",
    "df"
   ]
  },
  {
   "cell_type": "code",
   "execution_count": 13,
   "metadata": {},
   "outputs": [],
   "source": [
    "# Selecting a particular row:\n",
    "# df[0][0] # this wont work"
   ]
  },
  {
   "cell_type": "code",
   "execution_count": 16,
   "metadata": {},
   "outputs": [
    {
     "output_type": "execute_result",
     "data": {
      "text/plain": [
       "Index(['date', 'open', 'high', 'low', 'close', 'volume', 'Name'], dtype='object')"
      ]
     },
     "metadata": {},
     "execution_count": 16
    }
   ],
   "source": [
    "df.columns # returns set of columns called \"SERIES\""
   ]
  },
  {
   "cell_type": "code",
   "execution_count": 18,
   "metadata": {},
   "outputs": [
    {
     "output_type": "execute_result",
     "data": {
      "text/plain": [
       "0       2013-02-08\n",
       "1       2013-02-11\n",
       "2       2013-02-12\n",
       "3       2013-02-13\n",
       "4       2013-02-14\n",
       "           ...    \n",
       "1254    2018-02-01\n",
       "1255    2018-02-02\n",
       "1256    2018-02-05\n",
       "1257    2018-02-06\n",
       "1258    2018-02-07\n",
       "Name: date, Length: 1259, dtype: object"
      ]
     },
     "metadata": {},
     "execution_count": 18
    }
   ],
   "source": [
    "df['date'] # selecting a particular serie"
   ]
  },
  {
   "cell_type": "code",
   "execution_count": 22,
   "metadata": {},
   "outputs": [
    {
     "output_type": "execute_result",
     "data": {
      "text/plain": [
       "        open   close\n",
       "0     27.920  28.185\n",
       "1     28.260  28.070\n",
       "2     28.000  28.130\n",
       "3     28.230  27.915\n",
       "4     27.765  27.775\n",
       "...      ...     ...\n",
       "1254  56.280  56.000\n",
       "1255  55.900  55.770\n",
       "1256  55.530  54.690\n",
       "1257  53.685  55.610\n",
       "1258  55.080  54.460\n",
       "\n",
       "[1259 rows x 2 columns]"
      ],
      "text/html": "<div>\n<style scoped>\n    .dataframe tbody tr th:only-of-type {\n        vertical-align: middle;\n    }\n\n    .dataframe tbody tr th {\n        vertical-align: top;\n    }\n\n    .dataframe thead th {\n        text-align: right;\n    }\n</style>\n<table border=\"1\" class=\"dataframe\">\n  <thead>\n    <tr style=\"text-align: right;\">\n      <th></th>\n      <th>open</th>\n      <th>close</th>\n    </tr>\n  </thead>\n  <tbody>\n    <tr>\n      <th>0</th>\n      <td>27.920</td>\n      <td>28.185</td>\n    </tr>\n    <tr>\n      <th>1</th>\n      <td>28.260</td>\n      <td>28.070</td>\n    </tr>\n    <tr>\n      <th>2</th>\n      <td>28.000</td>\n      <td>28.130</td>\n    </tr>\n    <tr>\n      <th>3</th>\n      <td>28.230</td>\n      <td>27.915</td>\n    </tr>\n    <tr>\n      <th>4</th>\n      <td>27.765</td>\n      <td>27.775</td>\n    </tr>\n    <tr>\n      <th>...</th>\n      <td>...</td>\n      <td>...</td>\n    </tr>\n    <tr>\n      <th>1254</th>\n      <td>56.280</td>\n      <td>56.000</td>\n    </tr>\n    <tr>\n      <th>1255</th>\n      <td>55.900</td>\n      <td>55.770</td>\n    </tr>\n    <tr>\n      <th>1256</th>\n      <td>55.530</td>\n      <td>54.690</td>\n    </tr>\n    <tr>\n      <th>1257</th>\n      <td>53.685</td>\n      <td>55.610</td>\n    </tr>\n    <tr>\n      <th>1258</th>\n      <td>55.080</td>\n      <td>54.460</td>\n    </tr>\n  </tbody>\n</table>\n<p>1259 rows × 2 columns</p>\n</div>"
     },
     "metadata": {},
     "execution_count": 22
    }
   ],
   "source": [
    "df[['open', 'close']] # NOTE: requires double square brackets ie.: [[]]"
   ]
  },
  {
   "cell_type": "code",
   "execution_count": 25,
   "metadata": {},
   "outputs": [
    {
     "output_type": "execute_result",
     "data": {
      "text/plain": [
       "pandas.core.series.Series"
      ]
     },
     "metadata": {},
     "execution_count": 25
    }
   ],
   "source": [
    "type(df['open']) # THis is series"
   ]
  },
  {
   "cell_type": "code",
   "execution_count": 27,
   "metadata": {},
   "outputs": [
    {
     "output_type": "execute_result",
     "data": {
      "text/plain": [
       "pandas.core.frame.DataFrame"
      ]
     },
     "metadata": {},
     "execution_count": 27
    }
   ],
   "source": [
    "type(df[['open','close']]) # this will be a dataframe (more than one serie)"
   ]
  },
  {
   "cell_type": "code",
   "execution_count": 29,
   "metadata": {},
   "outputs": [
    {
     "output_type": "execute_result",
     "data": {
      "text/plain": [
       "date      2013-02-08\n",
       "open           27.92\n",
       "high          28.325\n",
       "low            27.92\n",
       "close         28.185\n",
       "volume       7146296\n",
       "Name            SBUX\n",
       "Name: 0, dtype: object"
      ]
     },
     "metadata": {},
     "execution_count": 29
    }
   ],
   "source": [
    "df.iloc[0] # uses index to locate a row."
   ]
  },
  {
   "cell_type": "code",
   "execution_count": 32,
   "metadata": {},
   "outputs": [
    {
     "output_type": "execute_result",
     "data": {
      "text/plain": [
       "date      2013-02-08\n",
       "open           27.92\n",
       "high          28.325\n",
       "low            27.92\n",
       "close         28.185\n",
       "volume       7146296\n",
       "Name            SBUX\n",
       "Name: 0, dtype: object"
      ]
     },
     "metadata": {},
     "execution_count": 32
    }
   ],
   "source": [
    "df.loc[0] # gets rows using \"label\" from index, and not necessairly integer position. - see below."
   ]
  },
  {
   "cell_type": "code",
   "execution_count": 34,
   "metadata": {},
   "outputs": [],
   "source": [
    "df2 = pd.read_csv('sbux.csv', index_col = 'date') # opening file with an index column"
   ]
  },
  {
   "cell_type": "code",
   "execution_count": 38,
   "metadata": {},
   "outputs": [
    {
     "output_type": "execute_result",
     "data": {
      "text/plain": [
       "              open    high     low   close   volume  Name\n",
       "date                                                     \n",
       "2013-02-08  27.920  28.325  27.920  28.185  7146296  SBUX\n",
       "2013-02-11  28.260  28.260  27.930  28.070  5457354  SBUX\n",
       "2013-02-12  28.000  28.275  27.975  28.130  8665592  SBUX\n",
       "2013-02-13  28.230  28.230  27.750  27.915  7022056  SBUX\n",
       "2013-02-14  27.765  27.905  27.675  27.775  8899188  SBUX"
      ],
      "text/html": "<div>\n<style scoped>\n    .dataframe tbody tr th:only-of-type {\n        vertical-align: middle;\n    }\n\n    .dataframe tbody tr th {\n        vertical-align: top;\n    }\n\n    .dataframe thead th {\n        text-align: right;\n    }\n</style>\n<table border=\"1\" class=\"dataframe\">\n  <thead>\n    <tr style=\"text-align: right;\">\n      <th></th>\n      <th>open</th>\n      <th>high</th>\n      <th>low</th>\n      <th>close</th>\n      <th>volume</th>\n      <th>Name</th>\n    </tr>\n    <tr>\n      <th>date</th>\n      <th></th>\n      <th></th>\n      <th></th>\n      <th></th>\n      <th></th>\n      <th></th>\n    </tr>\n  </thead>\n  <tbody>\n    <tr>\n      <th>2013-02-08</th>\n      <td>27.920</td>\n      <td>28.325</td>\n      <td>27.920</td>\n      <td>28.185</td>\n      <td>7146296</td>\n      <td>SBUX</td>\n    </tr>\n    <tr>\n      <th>2013-02-11</th>\n      <td>28.260</td>\n      <td>28.260</td>\n      <td>27.930</td>\n      <td>28.070</td>\n      <td>5457354</td>\n      <td>SBUX</td>\n    </tr>\n    <tr>\n      <th>2013-02-12</th>\n      <td>28.000</td>\n      <td>28.275</td>\n      <td>27.975</td>\n      <td>28.130</td>\n      <td>8665592</td>\n      <td>SBUX</td>\n    </tr>\n    <tr>\n      <th>2013-02-13</th>\n      <td>28.230</td>\n      <td>28.230</td>\n      <td>27.750</td>\n      <td>27.915</td>\n      <td>7022056</td>\n      <td>SBUX</td>\n    </tr>\n    <tr>\n      <th>2013-02-14</th>\n      <td>27.765</td>\n      <td>27.905</td>\n      <td>27.675</td>\n      <td>27.775</td>\n      <td>8899188</td>\n      <td>SBUX</td>\n    </tr>\n  </tbody>\n</table>\n</div>"
     },
     "metadata": {},
     "execution_count": 38
    }
   ],
   "source": [
    "df2.head() # will show \"date\" highlighted"
   ]
  },
  {
   "cell_type": "code",
   "execution_count": 40,
   "metadata": {},
   "outputs": [
    {
     "output_type": "execute_result",
     "data": {
      "text/plain": [
       "              open   high    low  close    volume  Name\n",
       "date                                                   \n",
       "2018-02-01  56.280  56.42  55.89  56.00  14690146  SBUX\n",
       "2018-02-02  55.900  56.32  55.70  55.77  15358909  SBUX\n",
       "2018-02-05  55.530  56.26  54.57  54.69  16059955  SBUX\n",
       "2018-02-06  53.685  56.06  53.56  55.61  17415065  SBUX\n",
       "2018-02-07  55.080  55.43  54.44  54.46  13927022  SBUX"
      ],
      "text/html": "<div>\n<style scoped>\n    .dataframe tbody tr th:only-of-type {\n        vertical-align: middle;\n    }\n\n    .dataframe tbody tr th {\n        vertical-align: top;\n    }\n\n    .dataframe thead th {\n        text-align: right;\n    }\n</style>\n<table border=\"1\" class=\"dataframe\">\n  <thead>\n    <tr style=\"text-align: right;\">\n      <th></th>\n      <th>open</th>\n      <th>high</th>\n      <th>low</th>\n      <th>close</th>\n      <th>volume</th>\n      <th>Name</th>\n    </tr>\n    <tr>\n      <th>date</th>\n      <th></th>\n      <th></th>\n      <th></th>\n      <th></th>\n      <th></th>\n      <th></th>\n    </tr>\n  </thead>\n  <tbody>\n    <tr>\n      <th>2018-02-01</th>\n      <td>56.280</td>\n      <td>56.42</td>\n      <td>55.89</td>\n      <td>56.00</td>\n      <td>14690146</td>\n      <td>SBUX</td>\n    </tr>\n    <tr>\n      <th>2018-02-02</th>\n      <td>55.900</td>\n      <td>56.32</td>\n      <td>55.70</td>\n      <td>55.77</td>\n      <td>15358909</td>\n      <td>SBUX</td>\n    </tr>\n    <tr>\n      <th>2018-02-05</th>\n      <td>55.530</td>\n      <td>56.26</td>\n      <td>54.57</td>\n      <td>54.69</td>\n      <td>16059955</td>\n      <td>SBUX</td>\n    </tr>\n    <tr>\n      <th>2018-02-06</th>\n      <td>53.685</td>\n      <td>56.06</td>\n      <td>53.56</td>\n      <td>55.61</td>\n      <td>17415065</td>\n      <td>SBUX</td>\n    </tr>\n    <tr>\n      <th>2018-02-07</th>\n      <td>55.080</td>\n      <td>55.43</td>\n      <td>54.44</td>\n      <td>54.46</td>\n      <td>13927022</td>\n      <td>SBUX</td>\n    </tr>\n  </tbody>\n</table>\n</div>"
     },
     "metadata": {},
     "execution_count": 40
    }
   ],
   "source": [
    "df2.tail() # will show \"date\" highlighted as it is index"
   ]
  },
  {
   "cell_type": "code",
   "execution_count": 45,
   "metadata": {},
   "outputs": [
    {
     "output_type": "execute_result",
     "data": {
      "text/plain": [
       "open         55.53\n",
       "high         56.26\n",
       "low          54.57\n",
       "close        54.69\n",
       "volume    16059955\n",
       "Name          SBUX\n",
       "Name: 2018-02-05, dtype: object"
      ]
     },
     "metadata": {},
     "execution_count": 45
    }
   ],
   "source": [
    "df2.loc['2018-02-05'] # since date is an index - this will work with loc method."
   ]
  },
  {
   "cell_type": "code",
   "execution_count": 47,
   "metadata": {},
   "outputs": [],
   "source": [
    "# df2.iloc['2018-02-05']  this will fail: i- stands fro integer in iloc"
   ]
  },
  {
   "cell_type": "code",
   "execution_count": 61,
   "metadata": {},
   "outputs": [
    {
     "output_type": "execute_result",
     "data": {
      "text/plain": [
       "open         55.53\n",
       "high         56.26\n",
       "low          54.57\n",
       "close        54.69\n",
       "volume    16059955\n",
       "Name          SBUX\n",
       "Name: 2018-02-05, dtype: object"
      ]
     },
     "metadata": {},
     "execution_count": 61
    }
   ],
   "source": [
    "df2.iloc[1256] # this will work."
   ]
  },
  {
   "cell_type": "code",
   "execution_count": 63,
   "metadata": {},
   "outputs": [
    {
     "output_type": "execute_result",
     "data": {
      "text/plain": [
       "pandas.core.series.Series"
      ]
     },
     "metadata": {},
     "execution_count": 63
    }
   ],
   "source": [
    "type(df2.loc['2013-02-08']) # this is series"
   ]
  },
  {
   "cell_type": "code",
   "execution_count": 64,
   "metadata": {},
   "outputs": [
    {
     "output_type": "execute_result",
     "data": {
      "text/plain": [
       "            date   open    high    low  close   volume  Name\n",
       "1087  2017-06-05  64.85  64.870  64.18  64.27  6809284  SBUX\n",
       "1088  2017-06-06  64.22  64.350  64.05  64.16  5448439  SBUX\n",
       "1089  2017-06-07  64.13  64.295  63.34  63.50  8364994  SBUX"
      ],
      "text/html": "<div>\n<style scoped>\n    .dataframe tbody tr th:only-of-type {\n        vertical-align: middle;\n    }\n\n    .dataframe tbody tr th {\n        vertical-align: top;\n    }\n\n    .dataframe thead th {\n        text-align: right;\n    }\n</style>\n<table border=\"1\" class=\"dataframe\">\n  <thead>\n    <tr style=\"text-align: right;\">\n      <th></th>\n      <th>date</th>\n      <th>open</th>\n      <th>high</th>\n      <th>low</th>\n      <th>close</th>\n      <th>volume</th>\n      <th>Name</th>\n    </tr>\n  </thead>\n  <tbody>\n    <tr>\n      <th>1087</th>\n      <td>2017-06-05</td>\n      <td>64.85</td>\n      <td>64.870</td>\n      <td>64.18</td>\n      <td>64.27</td>\n      <td>6809284</td>\n      <td>SBUX</td>\n    </tr>\n    <tr>\n      <th>1088</th>\n      <td>2017-06-06</td>\n      <td>64.22</td>\n      <td>64.350</td>\n      <td>64.05</td>\n      <td>64.16</td>\n      <td>5448439</td>\n      <td>SBUX</td>\n    </tr>\n    <tr>\n      <th>1089</th>\n      <td>2017-06-07</td>\n      <td>64.13</td>\n      <td>64.295</td>\n      <td>63.34</td>\n      <td>63.50</td>\n      <td>8364994</td>\n      <td>SBUX</td>\n    </tr>\n  </tbody>\n</table>\n</div>"
     },
     "metadata": {},
     "execution_count": 64
    }
   ],
   "source": [
    "df[df['open'] > 64]"
   ]
  },
  {
   "cell_type": "code",
   "execution_count": 68,
   "metadata": {},
   "outputs": [
    {
     "output_type": "execute_result",
     "data": {
      "text/plain": [
       "pandas.core.frame.DataFrame"
      ]
     },
     "metadata": {},
     "execution_count": 68
    }
   ],
   "source": [
    "type(df['open'] > 64) # this is a serie that matches open > 64"
   ]
  },
  {
   "cell_type": "code",
   "execution_count": 69,
   "metadata": {},
   "outputs": [
    {
     "output_type": "execute_result",
     "data": {
      "text/plain": [
       "pandas.core.frame.DataFrame"
      ]
     },
     "metadata": {},
     "execution_count": 69
    }
   ],
   "source": [
    "type(df[df['open'] > 64]) # this will be a dataframe"
   ]
  },
  {
   "cell_type": "code",
   "execution_count": 78,
   "metadata": {},
   "outputs": [
    {
     "output_type": "execute_result",
     "data": {
      "text/plain": [
       "0       False\n",
       "1       False\n",
       "2       False\n",
       "3       False\n",
       "4       False\n",
       "        ...  \n",
       "1254    False\n",
       "1255    False\n",
       "1256    False\n",
       "1257    False\n",
       "1258    False\n",
       "Name: Name, Length: 1259, dtype: bool"
      ]
     },
     "metadata": {},
     "execution_count": 78
    }
   ],
   "source": [
    "df['Name'] != 'SBUX' # any rows different than 'SBUX' - none found"
   ]
  },
  {
   "cell_type": "code",
   "execution_count": 82,
   "metadata": {},
   "outputs": [
    {
     "output_type": "execute_result",
     "data": {
      "text/plain": [
       "pandas.core.series.Series"
      ]
     },
     "metadata": {},
     "execution_count": 82
    }
   ],
   "source": [
    "type(df['Name'] != 'SBUX') # this will be Series as well.\n"
   ]
  },
  {
   "cell_type": "code",
   "execution_count": 86,
   "metadata": {},
   "outputs": [],
   "source": [
    "# NOw with numpy...\n",
    "import numpy as np"
   ]
  },
  {
   "cell_type": "code",
   "execution_count": 89,
   "metadata": {},
   "outputs": [
    {
     "output_type": "execute_result",
     "data": {
      "text/plain": [
       "array([0, 1, 2, 3, 4, 5, 6, 7, 8, 9])"
      ]
     },
     "metadata": {},
     "execution_count": 89
    }
   ],
   "source": [
    "A = np.arange(10) # memorize this.\n",
    "A"
   ]
  },
  {
   "cell_type": "code",
   "execution_count": 91,
   "metadata": {},
   "outputs": [
    {
     "output_type": "execute_result",
     "data": {
      "text/plain": [
       "array([['2013-02-08', 27.92, 28.325, ..., 28.185, 7146296, 'SBUX'],\n",
       "       ['2013-02-11', 28.26, 28.26, ..., 28.07, 5457354, 'SBUX'],\n",
       "       ['2013-02-12', 28.0, 28.275, ..., 28.13, 8665592, 'SBUX'],\n",
       "       ...,\n",
       "       ['2018-02-05', 55.53, 56.26, ..., 54.69, 16059955, 'SBUX'],\n",
       "       ['2018-02-06', 53.685, 56.06, ..., 55.61, 17415065, 'SBUX'],\n",
       "       ['2018-02-07', 55.08, 55.43, ..., 54.46, 13927022, 'SBUX']],\n",
       "      dtype=object)"
      ]
     },
     "metadata": {},
     "execution_count": 91
    }
   ],
   "source": [
    "df.values # dont want 'objects' when doing math!"
   ]
  },
  {
   "cell_type": "code",
   "execution_count": 92,
   "metadata": {},
   "outputs": [],
   "source": [
    "# particular series as numpy array: "
   ]
  },
  {
   "cell_type": "code",
   "execution_count": 96,
   "metadata": {},
   "outputs": [
    {
     "output_type": "execute_result",
     "data": {
      "text/plain": [
       "array([[27.92 , 28.185],\n",
       "       [28.26 , 28.07 ],\n",
       "       [28.   , 28.13 ],\n",
       "       ...,\n",
       "       [55.53 , 54.69 ],\n",
       "       [53.685, 55.61 ],\n",
       "       [55.08 , 54.46 ]])"
      ]
     },
     "metadata": {},
     "execution_count": 96
    }
   ],
   "source": [
    "A = df[['open','close']].values\n",
    "A"
   ]
  },
  {
   "cell_type": "code",
   "execution_count": 99,
   "metadata": {},
   "outputs": [
    {
     "output_type": "execute_result",
     "data": {
      "text/plain": [
       "numpy.ndarray"
      ]
     },
     "metadata": {},
     "execution_count": 99
    }
   ],
   "source": [
    "type(A)"
   ]
  },
  {
   "cell_type": "code",
   "execution_count": 118,
   "metadata": {},
   "outputs": [
    {
     "output_type": "execute_result",
     "data": {
      "text/plain": [
       "array([[27.92 , 28.185],\n",
       "       [28.26 , 28.07 ],\n",
       "       [28.   , 28.13 ],\n",
       "       ...,\n",
       "       [55.53 , 54.69 ],\n",
       "       [53.685, 55.61 ],\n",
       "       [55.08 , 54.46 ]])"
      ]
     },
     "metadata": {},
     "execution_count": 118
    }
   ],
   "source": [
    "B = df[['open','close']].to_numpy()\n",
    "B"
   ]
  },
  {
   "cell_type": "code",
   "execution_count": 120,
   "metadata": {},
   "outputs": [
    {
     "output_type": "execute_result",
     "data": {
      "text/plain": [
       "True"
      ]
     },
     "metadata": {},
     "execution_count": 120
    }
   ],
   "source": [
    "np.allclose(A, B)"
   ]
  },
  {
   "cell_type": "code",
   "execution_count": 121,
   "metadata": {},
   "outputs": [],
   "source": [
    "# Important: writing a dataframe to file"
   ]
  },
  {
   "cell_type": "code",
   "execution_count": 126,
   "metadata": {},
   "outputs": [],
   "source": [
    "smalldf = df[['open', 'close']]\n",
    "smalldf.to_csv('output.csv')"
   ]
  },
  {
   "cell_type": "code",
   "execution_count": 131,
   "metadata": {},
   "outputs": [],
   "source": [
    "# !head output.csv\n",
    "\n",
    "# When index column is not desired\n",
    "smalldf.to_csv('output_no_index.csv', index=False)"
   ]
  },
  {
   "cell_type": "code",
   "execution_count": null,
   "metadata": {},
   "outputs": [],
   "source": []
  }
 ]
}