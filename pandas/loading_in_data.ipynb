{
 "metadata": {
  "language_info": {
   "codemirror_mode": {
    "name": "ipython",
    "version": 3
   },
   "file_extension": ".py",
   "mimetype": "text/x-python",
   "name": "python",
   "nbconvert_exporter": "python",
   "pygments_lexer": "ipython3",
   "version": "3.8.3-final"
  },
  "orig_nbformat": 2,
  "kernelspec": {
   "name": "Python 3.8.3 64-bit ('base': conda)",
   "display_name": "Python 3.8.3 64-bit ('base': conda)",
   "metadata": {
    "interpreter": {
     "hash": "ceafd1e7221df52ada1f7bcf7e5b4333c93f3ac61d3d258d9cf8258a83802ece"
    }
   }
  }
 },
 "nbformat": 4,
 "nbformat_minor": 2,
 "cells": [
  {
   "cell_type": "code",
   "execution_count": 4,
   "metadata": {},
   "outputs": [],
   "source": [
    "import pandas as pd"
   ]
  },
  {
   "cell_type": "code",
   "execution_count": null,
   "metadata": {},
   "outputs": [],
   "source": [
    "# !wget https://raw.githubusercontent.com/lazyprogrammer/machine_learning_examples/master/tf2.0/sbux.csv"
   ]
  },
  {
   "cell_type": "code",
   "execution_count": 8,
   "metadata": {},
   "outputs": [
    {
     "output_type": "execute_result",
     "data": {
      "text/plain": [
       "            date    open    high     low   close    volume  Name\n",
       "0     2013-02-08  27.920  28.325  27.920  28.185   7146296  SBUX\n",
       "1     2013-02-11  28.260  28.260  27.930  28.070   5457354  SBUX\n",
       "2     2013-02-12  28.000  28.275  27.975  28.130   8665592  SBUX\n",
       "3     2013-02-13  28.230  28.230  27.750  27.915   7022056  SBUX\n",
       "4     2013-02-14  27.765  27.905  27.675  27.775   8899188  SBUX\n",
       "...          ...     ...     ...     ...     ...       ...   ...\n",
       "1254  2018-02-01  56.280  56.420  55.890  56.000  14690146  SBUX\n",
       "1255  2018-02-02  55.900  56.320  55.700  55.770  15358909  SBUX\n",
       "1256  2018-02-05  55.530  56.260  54.570  54.690  16059955  SBUX\n",
       "1257  2018-02-06  53.685  56.060  53.560  55.610  17415065  SBUX\n",
       "1258  2018-02-07  55.080  55.430  54.440  54.460  13927022  SBUX\n",
       "\n",
       "[1259 rows x 7 columns]"
      ],
      "text/html": "<div>\n<style scoped>\n    .dataframe tbody tr th:only-of-type {\n        vertical-align: middle;\n    }\n\n    .dataframe tbody tr th {\n        vertical-align: top;\n    }\n\n    .dataframe thead th {\n        text-align: right;\n    }\n</style>\n<table border=\"1\" class=\"dataframe\">\n  <thead>\n    <tr style=\"text-align: right;\">\n      <th></th>\n      <th>date</th>\n      <th>open</th>\n      <th>high</th>\n      <th>low</th>\n      <th>close</th>\n      <th>volume</th>\n      <th>Name</th>\n    </tr>\n  </thead>\n  <tbody>\n    <tr>\n      <th>0</th>\n      <td>2013-02-08</td>\n      <td>27.920</td>\n      <td>28.325</td>\n      <td>27.920</td>\n      <td>28.185</td>\n      <td>7146296</td>\n      <td>SBUX</td>\n    </tr>\n    <tr>\n      <th>1</th>\n      <td>2013-02-11</td>\n      <td>28.260</td>\n      <td>28.260</td>\n      <td>27.930</td>\n      <td>28.070</td>\n      <td>5457354</td>\n      <td>SBUX</td>\n    </tr>\n    <tr>\n      <th>2</th>\n      <td>2013-02-12</td>\n      <td>28.000</td>\n      <td>28.275</td>\n      <td>27.975</td>\n      <td>28.130</td>\n      <td>8665592</td>\n      <td>SBUX</td>\n    </tr>\n    <tr>\n      <th>3</th>\n      <td>2013-02-13</td>\n      <td>28.230</td>\n      <td>28.230</td>\n      <td>27.750</td>\n      <td>27.915</td>\n      <td>7022056</td>\n      <td>SBUX</td>\n    </tr>\n    <tr>\n      <th>4</th>\n      <td>2013-02-14</td>\n      <td>27.765</td>\n      <td>27.905</td>\n      <td>27.675</td>\n      <td>27.775</td>\n      <td>8899188</td>\n      <td>SBUX</td>\n    </tr>\n    <tr>\n      <th>...</th>\n      <td>...</td>\n      <td>...</td>\n      <td>...</td>\n      <td>...</td>\n      <td>...</td>\n      <td>...</td>\n      <td>...</td>\n    </tr>\n    <tr>\n      <th>1254</th>\n      <td>2018-02-01</td>\n      <td>56.280</td>\n      <td>56.420</td>\n      <td>55.890</td>\n      <td>56.000</td>\n      <td>14690146</td>\n      <td>SBUX</td>\n    </tr>\n    <tr>\n      <th>1255</th>\n      <td>2018-02-02</td>\n      <td>55.900</td>\n      <td>56.320</td>\n      <td>55.700</td>\n      <td>55.770</td>\n      <td>15358909</td>\n      <td>SBUX</td>\n    </tr>\n    <tr>\n      <th>1256</th>\n      <td>2018-02-05</td>\n      <td>55.530</td>\n      <td>56.260</td>\n      <td>54.570</td>\n      <td>54.690</td>\n      <td>16059955</td>\n      <td>SBUX</td>\n    </tr>\n    <tr>\n      <th>1257</th>\n      <td>2018-02-06</td>\n      <td>53.685</td>\n      <td>56.060</td>\n      <td>53.560</td>\n      <td>55.610</td>\n      <td>17415065</td>\n      <td>SBUX</td>\n    </tr>\n    <tr>\n      <th>1258</th>\n      <td>2018-02-07</td>\n      <td>55.080</td>\n      <td>55.430</td>\n      <td>54.440</td>\n      <td>54.460</td>\n      <td>13927022</td>\n      <td>SBUX</td>\n    </tr>\n  </tbody>\n</table>\n<p>1259 rows × 7 columns</p>\n</div>"
     },
     "metadata": {},
     "execution_count": 8
    }
   ],
   "source": [
    "df = pd.read_csv('sbux.csv') # This loads \"dataframe\"\n",
    "df"
   ]
  },
  {
   "cell_type": "code",
   "execution_count": 11,
   "metadata": {},
   "outputs": [
    {
     "output_type": "execute_result",
     "data": {
      "text/plain": [
       "pandas.core.frame.DataFrame"
      ]
     },
     "metadata": {},
     "execution_count": 11
    }
   ],
   "source": [
    "type(df)"
   ]
  },
  {
   "cell_type": "code",
   "execution_count": 13,
   "metadata": {},
   "outputs": [
    {
     "output_type": "execute_result",
     "data": {
      "text/plain": [
       "         date    open    high     low   close   volume  Name\n",
       "0  2013-02-08  27.920  28.325  27.920  28.185  7146296  SBUX\n",
       "1  2013-02-11  28.260  28.260  27.930  28.070  5457354  SBUX\n",
       "2  2013-02-12  28.000  28.275  27.975  28.130  8665592  SBUX\n",
       "3  2013-02-13  28.230  28.230  27.750  27.915  7022056  SBUX\n",
       "4  2013-02-14  27.765  27.905  27.675  27.775  8899188  SBUX"
      ],
      "text/html": "<div>\n<style scoped>\n    .dataframe tbody tr th:only-of-type {\n        vertical-align: middle;\n    }\n\n    .dataframe tbody tr th {\n        vertical-align: top;\n    }\n\n    .dataframe thead th {\n        text-align: right;\n    }\n</style>\n<table border=\"1\" class=\"dataframe\">\n  <thead>\n    <tr style=\"text-align: right;\">\n      <th></th>\n      <th>date</th>\n      <th>open</th>\n      <th>high</th>\n      <th>low</th>\n      <th>close</th>\n      <th>volume</th>\n      <th>Name</th>\n    </tr>\n  </thead>\n  <tbody>\n    <tr>\n      <th>0</th>\n      <td>2013-02-08</td>\n      <td>27.920</td>\n      <td>28.325</td>\n      <td>27.920</td>\n      <td>28.185</td>\n      <td>7146296</td>\n      <td>SBUX</td>\n    </tr>\n    <tr>\n      <th>1</th>\n      <td>2013-02-11</td>\n      <td>28.260</td>\n      <td>28.260</td>\n      <td>27.930</td>\n      <td>28.070</td>\n      <td>5457354</td>\n      <td>SBUX</td>\n    </tr>\n    <tr>\n      <th>2</th>\n      <td>2013-02-12</td>\n      <td>28.000</td>\n      <td>28.275</td>\n      <td>27.975</td>\n      <td>28.130</td>\n      <td>8665592</td>\n      <td>SBUX</td>\n    </tr>\n    <tr>\n      <th>3</th>\n      <td>2013-02-13</td>\n      <td>28.230</td>\n      <td>28.230</td>\n      <td>27.750</td>\n      <td>27.915</td>\n      <td>7022056</td>\n      <td>SBUX</td>\n    </tr>\n    <tr>\n      <th>4</th>\n      <td>2013-02-14</td>\n      <td>27.765</td>\n      <td>27.905</td>\n      <td>27.675</td>\n      <td>27.775</td>\n      <td>8899188</td>\n      <td>SBUX</td>\n    </tr>\n  </tbody>\n</table>\n</div>"
     },
     "metadata": {},
     "execution_count": 13
    }
   ],
   "source": [
    "df.head() # shows only top rows of data frame"
   ]
  },
  {
   "cell_type": "code",
   "execution_count": 16,
   "metadata": {},
   "outputs": [],
   "source": [
    "# df.to_numpy() # This would convert dataframe to numpy (not needed as of now I believe )"
   ]
  },
  {
   "cell_type": "code",
   "execution_count": 19,
   "metadata": {},
   "outputs": [
    {
     "output_type": "execute_result",
     "data": {
      "text/plain": [
       "         date    open    high     low   close    volume  Name\n",
       "0  2013-02-08  27.920  28.325  27.920  28.185   7146296  SBUX\n",
       "1  2013-02-11  28.260  28.260  27.930  28.070   5457354  SBUX\n",
       "2  2013-02-12  28.000  28.275  27.975  28.130   8665592  SBUX\n",
       "3  2013-02-13  28.230  28.230  27.750  27.915   7022056  SBUX\n",
       "4  2013-02-14  27.765  27.905  27.675  27.775   8899188  SBUX\n",
       "5  2013-02-15  27.805  27.850  27.085  27.170  18195730  SBUX\n",
       "6  2013-02-19  27.180  27.305  27.010  27.225  11760912  SBUX\n",
       "7  2013-02-20  27.300  27.420  26.590  26.655  12472506  SBUX\n",
       "8  2013-02-21  26.535  26.820  26.260  26.675  13896450  SBUX\n",
       "9  2013-02-22  26.850  27.105  26.640  27.085  11487316  SBUX"
      ],
      "text/html": "<div>\n<style scoped>\n    .dataframe tbody tr th:only-of-type {\n        vertical-align: middle;\n    }\n\n    .dataframe tbody tr th {\n        vertical-align: top;\n    }\n\n    .dataframe thead th {\n        text-align: right;\n    }\n</style>\n<table border=\"1\" class=\"dataframe\">\n  <thead>\n    <tr style=\"text-align: right;\">\n      <th></th>\n      <th>date</th>\n      <th>open</th>\n      <th>high</th>\n      <th>low</th>\n      <th>close</th>\n      <th>volume</th>\n      <th>Name</th>\n    </tr>\n  </thead>\n  <tbody>\n    <tr>\n      <th>0</th>\n      <td>2013-02-08</td>\n      <td>27.920</td>\n      <td>28.325</td>\n      <td>27.920</td>\n      <td>28.185</td>\n      <td>7146296</td>\n      <td>SBUX</td>\n    </tr>\n    <tr>\n      <th>1</th>\n      <td>2013-02-11</td>\n      <td>28.260</td>\n      <td>28.260</td>\n      <td>27.930</td>\n      <td>28.070</td>\n      <td>5457354</td>\n      <td>SBUX</td>\n    </tr>\n    <tr>\n      <th>2</th>\n      <td>2013-02-12</td>\n      <td>28.000</td>\n      <td>28.275</td>\n      <td>27.975</td>\n      <td>28.130</td>\n      <td>8665592</td>\n      <td>SBUX</td>\n    </tr>\n    <tr>\n      <th>3</th>\n      <td>2013-02-13</td>\n      <td>28.230</td>\n      <td>28.230</td>\n      <td>27.750</td>\n      <td>27.915</td>\n      <td>7022056</td>\n      <td>SBUX</td>\n    </tr>\n    <tr>\n      <th>4</th>\n      <td>2013-02-14</td>\n      <td>27.765</td>\n      <td>27.905</td>\n      <td>27.675</td>\n      <td>27.775</td>\n      <td>8899188</td>\n      <td>SBUX</td>\n    </tr>\n    <tr>\n      <th>5</th>\n      <td>2013-02-15</td>\n      <td>27.805</td>\n      <td>27.850</td>\n      <td>27.085</td>\n      <td>27.170</td>\n      <td>18195730</td>\n      <td>SBUX</td>\n    </tr>\n    <tr>\n      <th>6</th>\n      <td>2013-02-19</td>\n      <td>27.180</td>\n      <td>27.305</td>\n      <td>27.010</td>\n      <td>27.225</td>\n      <td>11760912</td>\n      <td>SBUX</td>\n    </tr>\n    <tr>\n      <th>7</th>\n      <td>2013-02-20</td>\n      <td>27.300</td>\n      <td>27.420</td>\n      <td>26.590</td>\n      <td>26.655</td>\n      <td>12472506</td>\n      <td>SBUX</td>\n    </tr>\n    <tr>\n      <th>8</th>\n      <td>2013-02-21</td>\n      <td>26.535</td>\n      <td>26.820</td>\n      <td>26.260</td>\n      <td>26.675</td>\n      <td>13896450</td>\n      <td>SBUX</td>\n    </tr>\n    <tr>\n      <th>9</th>\n      <td>2013-02-22</td>\n      <td>26.850</td>\n      <td>27.105</td>\n      <td>26.640</td>\n      <td>27.085</td>\n      <td>11487316</td>\n      <td>SBUX</td>\n    </tr>\n  </tbody>\n</table>\n</div>"
     },
     "metadata": {},
     "execution_count": 19
    }
   ],
   "source": [
    "df.head(10) # first 10 lines of dataframe"
   ]
  },
  {
   "cell_type": "code",
   "execution_count": 21,
   "metadata": {},
   "outputs": [
    {
     "output_type": "execute_result",
     "data": {
      "text/plain": [
       "            date    open   high    low  close    volume  Name\n",
       "1254  2018-02-01  56.280  56.42  55.89  56.00  14690146  SBUX\n",
       "1255  2018-02-02  55.900  56.32  55.70  55.77  15358909  SBUX\n",
       "1256  2018-02-05  55.530  56.26  54.57  54.69  16059955  SBUX\n",
       "1257  2018-02-06  53.685  56.06  53.56  55.61  17415065  SBUX\n",
       "1258  2018-02-07  55.080  55.43  54.44  54.46  13927022  SBUX"
      ],
      "text/html": "<div>\n<style scoped>\n    .dataframe tbody tr th:only-of-type {\n        vertical-align: middle;\n    }\n\n    .dataframe tbody tr th {\n        vertical-align: top;\n    }\n\n    .dataframe thead th {\n        text-align: right;\n    }\n</style>\n<table border=\"1\" class=\"dataframe\">\n  <thead>\n    <tr style=\"text-align: right;\">\n      <th></th>\n      <th>date</th>\n      <th>open</th>\n      <th>high</th>\n      <th>low</th>\n      <th>close</th>\n      <th>volume</th>\n      <th>Name</th>\n    </tr>\n  </thead>\n  <tbody>\n    <tr>\n      <th>1254</th>\n      <td>2018-02-01</td>\n      <td>56.280</td>\n      <td>56.42</td>\n      <td>55.89</td>\n      <td>56.00</td>\n      <td>14690146</td>\n      <td>SBUX</td>\n    </tr>\n    <tr>\n      <th>1255</th>\n      <td>2018-02-02</td>\n      <td>55.900</td>\n      <td>56.32</td>\n      <td>55.70</td>\n      <td>55.77</td>\n      <td>15358909</td>\n      <td>SBUX</td>\n    </tr>\n    <tr>\n      <th>1256</th>\n      <td>2018-02-05</td>\n      <td>55.530</td>\n      <td>56.26</td>\n      <td>54.57</td>\n      <td>54.69</td>\n      <td>16059955</td>\n      <td>SBUX</td>\n    </tr>\n    <tr>\n      <th>1257</th>\n      <td>2018-02-06</td>\n      <td>53.685</td>\n      <td>56.06</td>\n      <td>53.56</td>\n      <td>55.61</td>\n      <td>17415065</td>\n      <td>SBUX</td>\n    </tr>\n    <tr>\n      <th>1258</th>\n      <td>2018-02-07</td>\n      <td>55.080</td>\n      <td>55.43</td>\n      <td>54.44</td>\n      <td>54.46</td>\n      <td>13927022</td>\n      <td>SBUX</td>\n    </tr>\n  </tbody>\n</table>\n</div>"
     },
     "metadata": {},
     "execution_count": 21
    }
   ],
   "source": [
    "df.tail()"
   ]
  },
  {
   "cell_type": "code",
   "execution_count": 24,
   "metadata": {},
   "outputs": [
    {
     "output_type": "stream",
     "name": "stdout",
     "text": [
      "<class 'pandas.core.frame.DataFrame'>\nRangeIndex: 1259 entries, 0 to 1258\nData columns (total 7 columns):\n #   Column  Non-Null Count  Dtype  \n---  ------  --------------  -----  \n 0   date    1259 non-null   object \n 1   open    1259 non-null   float64\n 2   high    1259 non-null   float64\n 3   low     1259 non-null   float64\n 4   close   1259 non-null   float64\n 5   volume  1259 non-null   int64  \n 6   Name    1259 non-null   object \ndtypes: float64(4), int64(1), object(2)\nmemory usage: 69.0+ KB\n"
     ]
    }
   ],
   "source": [
    "df.info() # Information about datarame - number of entries, etc, dtype => object type (Eg. float64, int64, object) and so on, memory usage"
   ]
  },
  {
   "cell_type": "code",
   "execution_count": null,
   "metadata": {},
   "outputs": [],
   "source": []
  },
  {
   "cell_type": "code",
   "execution_count": null,
   "metadata": {},
   "outputs": [],
   "source": []
  }
 ]
}